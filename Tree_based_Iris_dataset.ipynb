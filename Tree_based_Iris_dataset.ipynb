{
  "nbformat": 4,
  "nbformat_minor": 0,
  "metadata": {
    "colab": {
      "provenance": [],
      "authorship_tag": "ABX9TyO9mK6nke7AH22EWYQAgOHU",
      "include_colab_link": true
    },
    "kernelspec": {
      "name": "python3",
      "display_name": "Python 3"
    },
    "language_info": {
      "name": "python"
    }
  },
  "cells": [
    {
      "cell_type": "markdown",
      "metadata": {
        "id": "view-in-github",
        "colab_type": "text"
      },
      "source": [
        "<a href=\"https://colab.research.google.com/github/18kevin99/Python_programs/blob/main/Tree_based_Iris_dataset.ipynb\" target=\"_parent\"><img src=\"https://colab.research.google.com/assets/colab-badge.svg\" alt=\"Open In Colab\"/></a>"
      ]
    },
    {
      "cell_type": "markdown",
      "source": [
        "#Problem 1"
      ],
      "metadata": {
        "id": "icnFMKK611Xy"
      }
    },
    {
      "cell_type": "markdown",
      "source": [
        "####Implement the following tree-based learning models to classify the Iris dataset.\n",
        "#####(a) AdaBoost ensemble model\n",
        "#####(b) Random forest ensemble model\n",
        "#####(c) Extreme gradient boosting ensemble model\n",
        "#####(d) Bagging ensemble model\n",
        "#####(e) A single classification tree\n",
        "#####(f) Compare the accuracy and efficiency of the above five models"
      ],
      "metadata": {
        "id": "-jNf5C6PKL6N"
      }
    },
    {
      "cell_type": "markdown",
      "source": [
        "##AdaBoost"
      ],
      "metadata": {
        "id": "zBz1qfAz7x30"
      }
    },
    {
      "cell_type": "code",
      "execution_count": null,
      "metadata": {
        "id": "9akeFZ3C1fzb"
      },
      "outputs": [],
      "source": [
        "from sklearn.ensemble import AdaBoostClassifier\n",
        "from sklearn import datasets\n",
        "from sklearn.model_selection import train_test_split\n",
        "from sklearn import metrics\n",
        "from sklearn.tree import DecisionTreeClassifier\n",
        "from sklearn.ensemble import RandomForestClassifier, BaggingClassifier"
      ]
    },
    {
      "cell_type": "code",
      "source": [
        "iris = datasets.load_iris()\n",
        "X = iris.data\n",
        "y = iris.target\n",
        "\n",
        "X_train, X_test, y_train, y_test = train_test_split(X, y, test_size=0.2,random_state = 4)\n",
        "\n",
        "print(\"X_train:\",len(X_train),\"; X_test:\",len(X_test),\"; y_train:\",len(y_train),\"; y_test:\",len(y_test))"
      ],
      "metadata": {
        "colab": {
          "base_uri": "https://localhost:8080/"
        },
        "id": "abRxOrzV1rS1",
        "outputId": "42a9956e-533a-4540-dd75-ac1d45339a47"
      },
      "execution_count": null,
      "outputs": [
        {
          "output_type": "stream",
          "name": "stdout",
          "text": [
            "X_train: 120 ; X_test: 30 ; y_train: 120 ; y_test: 30\n"
          ]
        }
      ]
    },
    {
      "cell_type": "code",
      "source": [
        "# Create adaboost object\n",
        "Adbc = AdaBoostClassifier(n_estimators=50,\n",
        "                         learning_rate=1.5)\n",
        "# Train Adaboost \n",
        "model = Adbc.fit(X_train, y_train)\n",
        "\n",
        "#Predict the response for test dataset\n",
        "y_pred = model.predict(X_test)\n",
        "\n",
        "print(\"Accuracy:\",metrics.accuracy_score(y_test, y_pred))"
      ],
      "metadata": {
        "colab": {
          "base_uri": "https://localhost:8080/"
        },
        "id": "qRdEiRnO1yxL",
        "outputId": "f8b7eb32-b505-48aa-db87-a9c360b19532"
      },
      "execution_count": null,
      "outputs": [
        {
          "output_type": "stream",
          "name": "stdout",
          "text": [
            "Accuracy: 0.9333333333333333\n"
          ]
        }
      ]
    },
    {
      "cell_type": "markdown",
      "source": [
        "##Random Forest"
      ],
      "metadata": {
        "id": "EkqaaDE94gs5"
      }
    },
    {
      "cell_type": "code",
      "source": [
        "modelRF = RandomForestClassifier(n_estimators=10)\n",
        "modelRF.fit(X_train,y_train)"
      ],
      "metadata": {
        "colab": {
          "base_uri": "https://localhost:8080/"
        },
        "id": "vBE5ZUeH4med",
        "outputId": "d0b9a136-9d57-4d34-bed3-44860364e7f5"
      },
      "execution_count": null,
      "outputs": [
        {
          "output_type": "execute_result",
          "data": {
            "text/plain": [
              "RandomForestClassifier(n_estimators=10)"
            ]
          },
          "metadata": {},
          "execution_count": 4
        }
      ]
    },
    {
      "cell_type": "code",
      "source": [
        "modelRF.score(X_test, y_test)"
      ],
      "metadata": {
        "colab": {
          "base_uri": "https://localhost:8080/"
        },
        "id": "aYvcofLw6jgU",
        "outputId": "d5accb55-73ae-430a-a440-a7b599866d22"
      },
      "execution_count": null,
      "outputs": [
        {
          "output_type": "execute_result",
          "data": {
            "text/plain": [
              "0.9666666666666667"
            ]
          },
          "metadata": {},
          "execution_count": 5
        }
      ]
    },
    {
      "cell_type": "markdown",
      "source": [
        "##XgBoost"
      ],
      "metadata": {
        "id": "ZxkPa-Cw2nAH"
      }
    },
    {
      "cell_type": "code",
      "source": [
        "import xgboost as xgb\n",
        "\n",
        "dtrain = xgb.DMatrix(X_train, label=y_train)\n",
        "dtest = xgb.DMatrix(X_test, label=y_test)"
      ],
      "metadata": {
        "id": "MgomaB6s3dPM"
      },
      "execution_count": null,
      "outputs": []
    },
    {
      "cell_type": "code",
      "source": [
        "#paramaters \n",
        "param = {\n",
        "    'max_depth': 3,  # the maximum depth of each tree\n",
        "    'eta': 0.3,  # the training step for each iteration\n",
        "    'silent': 1,  # logging mode - quiet\n",
        "    'objective': 'multi:softprob',  # error evaluation for multiclass training\n",
        "    'num_class': 3}  # the number of classes that exist in this datset\n",
        "num_round = 5  # the number of training iterations"
      ],
      "metadata": {
        "id": "0Wc9kyfX3gAg"
      },
      "execution_count": null,
      "outputs": []
    },
    {
      "cell_type": "code",
      "source": [
        "#model builing using training data\n",
        "bst = xgb.train(param, dtrain, num_round)\n",
        "#To calculate predication using test data\n",
        "y_predict = bst.predict(dtest)\n",
        "#print(y_predict)"
      ],
      "metadata": {
        "id": "Klsvrtlk3iwV"
      },
      "execution_count": null,
      "outputs": []
    },
    {
      "cell_type": "code",
      "source": [
        "#Prediction using test data\n",
        "preds = bst.predict(dtest)\n",
        "#Calculating prediction accuracy\n",
        "import numpy as np\n",
        "best_preds = np.asarray([np.argmax(line) for line in preds])\n",
        "from sklearn.metrics import precision_score\n",
        "print (precision_score(y_test, best_preds, average='macro'))"
      ],
      "metadata": {
        "colab": {
          "base_uri": "https://localhost:8080/"
        },
        "id": "Kme2cSJd3tZp",
        "outputId": "621e7adc-e366-455e-bc6a-bda4e048f97c"
      },
      "execution_count": null,
      "outputs": [
        {
          "output_type": "stream",
          "name": "stdout",
          "text": [
            "0.9666666666666667\n"
          ]
        }
      ]
    },
    {
      "cell_type": "code",
      "source": [
        "#Feature importance\n",
        "from xgboost import plot_importance\n",
        "from matplotlib import pyplot\n",
        "plot_importance(bst)\n",
        "pyplot.show()\n",
        "\n",
        "#f1 - sepal length in cm\n",
        "#f2 - sepal width in cm\n",
        "#f3 - petal length in cm\n",
        "#f4 - petal width in cm "
      ],
      "metadata": {
        "colab": {
          "base_uri": "https://localhost:8080/",
          "height": 295
        },
        "id": "QDDMTkez313C",
        "outputId": "0650f951-ec6d-4317-fc43-6eb300110d94"
      },
      "execution_count": null,
      "outputs": [
        {
          "output_type": "display_data",
          "data": {
            "text/plain": [
              "<Figure size 432x288 with 1 Axes>"
            ],
            "image/png": "[encoded data removed]"
          },
          "metadata": {
            "needs_background": "light"
          }
        }
      ]
    },
    {
      "cell_type": "markdown",
      "source": [
        "##Bagging"
      ],
      "metadata": {
        "id": "Lxax9knz4Djh"
      }
    },
    {
      "cell_type": "code",
      "source": [
        "model_bagging = BaggingClassifier(DecisionTreeClassifier(),max_samples=0.5, max_features=1, n_estimators=20)\n",
        "model_bagging.fit(X_train, y_train)"
      ],
      "metadata": {
        "colab": {
          "base_uri": "https://localhost:8080/"
        },
        "id": "n7QI04xs6stG",
        "outputId": "6234dae0-4733-4f9e-d3c2-4de357499572"
      },
      "execution_count": null,
      "outputs": [
        {
          "output_type": "execute_result",
          "data": {
            "text/plain": [
              "BaggingClassifier(base_estimator=DecisionTreeClassifier(), max_features=1,\n",
              "                  max_samples=0.5, n_estimators=20)"
            ]
          },
          "metadata": {},
          "execution_count": 11
        }
      ]
    },
    {
      "cell_type": "code",
      "source": [
        "model_bagging.score(X_test, y_test)"
      ],
      "metadata": {
        "colab": {
          "base_uri": "https://localhost:8080/"
        },
        "id": "hzfU2Nv260bd",
        "outputId": "951c8318-9595-4fea-8bcd-029683773f06"
      },
      "execution_count": null,
      "outputs": [
        {
          "output_type": "execute_result",
          "data": {
            "text/plain": [
              "0.9333333333333333"
            ]
          },
          "metadata": {},
          "execution_count": 12
        }
      ]
    },
    {
      "cell_type": "markdown",
      "source": [
        "##Single Decision Tree"
      ],
      "metadata": {
        "id": "8Pci8zQn65Gn"
      }
    },
    {
      "cell_type": "code",
      "source": [
        "model = DecisionTreeClassifier()\n",
        "model.fit(X_train, y_train)"
      ],
      "metadata": {
        "colab": {
          "base_uri": "https://localhost:8080/"
        },
        "id": "UtNxsA8g68SO",
        "outputId": "5bdccbcc-cd84-4f2e-ab4d-64d8a023ef39"
      },
      "execution_count": null,
      "outputs": [
        {
          "output_type": "execute_result",
          "data": {
            "text/plain": [
              "DecisionTreeClassifier()"
            ]
          },
          "metadata": {},
          "execution_count": 13
        }
      ]
    },
    {
      "cell_type": "code",
      "source": [
        "model.score(X_test, y_test)"
      ],
      "metadata": {
        "colab": {
          "base_uri": "https://localhost:8080/"
        },
        "id": "PXJ-woQR6-ZP",
        "outputId": "e3ab55e8-b326-4077-81c5-5825139cdc90"
      },
      "execution_count": null,
      "outputs": [
        {
          "output_type": "execute_result",
          "data": {
            "text/plain": [
              "0.9666666666666667"
            ]
          },
          "metadata": {},
          "execution_count": 14
        }
      ]
    },
    {
      "cell_type": "markdown",
      "source": [
        "\n",
        "###From the accuracy obtained from the about models, it is difficult to state definitively a particular model/s that is significantly better at predicition of the \"Iris\" dataset."
      ],
      "metadata": {
        "id": "XYWDKX2A8nJi"
      }
    }
  ]
}