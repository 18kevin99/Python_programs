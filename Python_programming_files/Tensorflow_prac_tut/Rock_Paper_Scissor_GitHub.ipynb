{
  "nbformat": 4,
  "nbformat_minor": 0,
  "metadata": {
    "colab": {
      "name": "Rock Paper Scissor GitHub",
      "provenance": [],
      "collapsed_sections": []
    },
    "kernelspec": {
      "name": "python3",
      "display_name": "Python 3"
    },
    "accelerator": "GPU"
  },
  "cells": [
    {
      "cell_type": "code",
      "metadata": {
        "id": "zHGr0xjk9CN7"
      },
      "source": [
        "import tensorflow.compat.v2 as tf\n",
        "import tensorflow_datasets as tfds\n",
        "import numpy as np\n",
        "import pandas as pd\n",
        "import cv2\n",
        "import matplotlib.pyplot as plt\n",
        "import plotly.express as px\n",
        "from skimage import io\n",
        "import os\n",
        "import pickle"
      ],
      "execution_count": null,
      "outputs": []
    },
    {
      "cell_type": "code",
      "metadata": {
        "id": "s7dYR7EHt-YX"
      },
      "source": [
        "from google.colab import drive\n",
        "drive.mount('/content/drive')"
      ],
      "execution_count": null,
      "outputs": []
    },
    {
      "cell_type": "markdown",
      "metadata": {
        "id": "p50OusgW-pBW"
      },
      "source": [
        "Preparing our Data"
      ]
    },
    {
      "cell_type": "code",
      "metadata": {
        "id": "sjLUM-EJTkug"
      },
      "source": [
        "DATA_PATH = '/content/drive/My Drive/Gesture Recognition/'"
      ],
      "execution_count": null,
      "outputs": []
    },
    {
      "cell_type": "code",
      "metadata": {
        "id": "Rld84Sq2TQ_J"
      },
      "source": [
        "shape_to_label = {'rock':np.array([1.,0.,0.,0.]),'paper':np.array([0.,1.,0.,0.]),'scissor':np.array([0.,0.,1.,0.]),'ok':np.array([0.,0.,0.,1.])}\n",
        "arr_to_shape = {np.argmax(shape_to_label[x]):x for x in shape_to_label.keys()}"
      ],
      "execution_count": null,
      "outputs": []
    },
    {
      "cell_type": "code",
      "metadata": {
        "id": "dRmtbHDAT_tM"
      },
      "source": [
        "imgData = list()\n",
        "labels = list()"
      ],
      "execution_count": null,
      "outputs": []
    },
    {
      "cell_type": "code",
      "metadata": {
        "id": "zbU2Q2H04Va8",
        "outputId": "fe6878e8-18ac-4599-e6fd-626e8ca2f3e4",
        "colab": {
          "base_uri": "https://localhost:8080/",
          "height": 118
        }
      },
      "source": [
        "for dr in os.listdir(DATA_PATH):\n",
        "    if dr not in ['rock','paper','scissor']:\n",
        "        continue\n",
        "    print(dr)\n",
        "    lb = shape_to_label[dr]\n",
        "    i = 0\n",
        "    for pic in os.listdir(os.path.join(DATA_PATH,dr)):\n",
        "        path = os.path.join(DATA_PATH,dr+'/'+pic)\n",
        "        img = cv2.imread(path)\n",
        "        # img = cv2.cvtColor(img, cv2.COLOR_BGR2GRAY)\n",
        "        imgData.append([img,lb])\n",
        "        imgData.append([cv2.flip(img, 1),lb]) #horizontally flipped image\n",
        "        imgData.append([cv2.resize(img[25:200,25:200],(300,300)),lb]) # zoom : crop in and resize\n",
        "        i+=3\n",
        "    print(i)"
      ],
      "execution_count": null,
      "outputs": [
        {
          "output_type": "stream",
          "text": [
            "paper\n",
            "900\n",
            "rock\n",
            "900\n",
            "scissor\n",
            "900\n"
          ],
          "name": "stdout"
        }
      ]
    },
    {
      "cell_type": "code",
      "metadata": {
        "id": "mlr-kes27Gys"
      },
      "source": [
        "np.random.shuffle(imgData)"
      ],
      "execution_count": null,
      "outputs": []
    },
    {
      "cell_type": "code",
      "metadata": {
        "id": "-PnrGFKK7rrI"
      },
      "source": [
        "imgData,labels = zip(*imgData)"
      ],
      "execution_count": null,
      "outputs": []
    },
    {
      "cell_type": "code",
      "metadata": {
        "id": "iNJu9alB8GYk"
      },
      "source": [
        "imgData = np.array(imgData)\n",
        "labels = np.array(labels)"
      ],
      "execution_count": null,
      "outputs": []
    },
    {
      "cell_type": "markdown",
      "metadata": {
        "id": "fRDsPwqFcUO-"
      },
      "source": [
        "Model"
      ]
    },
    {
      "cell_type": "code",
      "metadata": {
        "id": "HIpR-3_RbFuE",
        "outputId": "b956730f-c7c4-40b7-e006-e3681aa77194",
        "colab": {
          "base_uri": "https://localhost:8080/",
          "height": 34
        }
      },
      "source": [
        "from keras.models import Sequential,load_model\n",
        "from keras.layers import Dense,MaxPool2D,Dropout,Flatten,Conv2D,GlobalAveragePooling2D,Activation\n",
        "from keras.applications import DenseNet121\n",
        "from keras.callbacks import ModelCheckpoint, EarlyStopping\n",
        "from keras.optimizers import Adam\n",
        "from keras.applications.densenet import DenseNet121\n",
        "from keras.applications.inception_v3 import InceptionV3"
      ],
      "execution_count": null,
      "outputs": [
        {
          "output_type": "stream",
          "text": [
            "Using TensorFlow backend.\n"
          ],
          "name": "stderr"
        }
      ]
    },
    {
      "cell_type": "markdown",
      "metadata": {
        "id": "5dS3GJKSf6GQ"
      },
      "source": [
        "DenseNet"
      ]
    },
    {
      "cell_type": "code",
      "metadata": {
        "id": "84hcepJU-QCw",
        "outputId": "6bed662a-3b90-4aba-d537-73f059d21f9e",
        "colab": {
          "base_uri": "https://localhost:8080/",
          "height": 70
        }
      },
      "source": [
        "densenet = DenseNet121(include_top=False, weights='imagenet', classes=3,input_shape=(300,300,3))\n",
        "densenet.trainable=True"
      ],
      "execution_count": null,
      "outputs": [
        {
          "output_type": "stream",
          "text": [
            "Downloading data from https://github.com/keras-team/keras-applications/releases/download/densenet/densenet121_weights_tf_dim_ordering_tf_kernels_notop.h5\n",
            "29089792/29084464 [==============================] - 1s 0us/step\n"
          ],
          "name": "stdout"
        }
      ]
    },
    {
      "cell_type": "code",
      "metadata": {
        "id": "_cqy2VfTb6vT"
      },
      "source": [
        "def genericModel(base):\n",
        "    model = Sequential()\n",
        "    model.add(base)\n",
        "    model.add(MaxPool2D())\n",
        "    model.add(Flatten())\n",
        "    model.add(Dense(4,activation='softmax'))\n",
        "    model.compile(optimizer=Adam(),loss='categorical_crossentropy',metrics=['acc'])\n",
        "    return model"
      ],
      "execution_count": null,
      "outputs": []
    },
    {
      "cell_type": "code",
      "metadata": {
        "id": "ELIPUaqqb6ut"
      },
      "source": [
        "dnet = genericModel(densenet)"
      ],
      "execution_count": null,
      "outputs": []
    },
    {
      "cell_type": "code",
      "metadata": {
        "id": "T51PY7scgq8e",
        "outputId": "80bdcbc1-eff8-4300-a263-7411e4c30701",
        "colab": {
          "base_uri": "https://localhost:8080/",
          "height": 286
        }
      },
      "source": [
        "dnet.summary()"
      ],
      "execution_count": null,
      "outputs": [
        {
          "output_type": "stream",
          "text": [
            "Model: \"sequential_1\"\n",
            "_________________________________________________________________\n",
            "Layer (type)                 Output Shape              Param #   \n",
            "=================================================================\n",
            "densenet121 (Model)          (None, 9, 9, 1024)        7037504   \n",
            "_________________________________________________________________\n",
            "max_pooling2d_1 (MaxPooling2 (None, 4, 4, 1024)        0         \n",
            "_________________________________________________________________\n",
            "flatten_1 (Flatten)          (None, 16384)             0         \n",
            "_________________________________________________________________\n",
            "dense_1 (Dense)              (None, 4)                 65540     \n",
            "=================================================================\n",
            "Total params: 7,103,044\n",
            "Trainable params: 7,019,396\n",
            "Non-trainable params: 83,648\n",
            "_________________________________________________________________\n"
          ],
          "name": "stdout"
        }
      ]
    },
    {
      "cell_type": "code",
      "metadata": {
        "id": "9wkKVxSVGG68",
        "outputId": "9deb91fc-3e1c-48c9-a3bc-ce61ec2df04f",
        "colab": {
          "base_uri": "https://localhost:8080/",
          "height": 620
        }
      },
      "source": [
        "from IPython.display import SVG\n",
        "from keras.utils import model_to_dot\n",
        "\n",
        "SVG(model_to_dot(dnet).create(prog='dot', format='svg'))"
      ],
      "execution_count": null,
      "outputs": [
        {
          "output_type": "execute_result",
          "data": {
            "text/plain": [
              "<IPython.core.display.SVG object>"
            ],
            "image/svg+xml": "<svg height=\"449pt\" viewBox=\"0.00 0.00 229.00 337.00\" width=\"305pt\" xmlns=\"http://www.w3.org/2000/svg\" xmlns:xlink=\"http://www.w3.org/1999/xlink\">\n<g class=\"graph\" id=\"graph0\" transform=\"scale(1.3333 1.3333) rotate(0) translate(4 333)\">\n<title>G</title>\n<polygon fill=\"#ffffff\" points=\"-4,4 -4,-333 225,-333 225,4 -4,4\" stroke=\"transparent\"/>\n<!-- 140124339505136 -->\n<g class=\"node\" id=\"node1\">\n<title>140124339505136</title>\n<polygon fill=\"none\" points=\"12,-292.5 12,-328.5 209,-328.5 209,-292.5 12,-292.5\" stroke=\"#000000\"/>\n<text fill=\"#000000\" font-family=\"Times,serif\" font-size=\"14.00\" text-anchor=\"middle\" x=\"110.5\" y=\"-306.8\">densenet121_input: InputLayer</text>\n</g>\n<!-- 140124344368768 -->\n<g class=\"node\" id=\"node2\">\n<title>140124344368768</title>\n<polygon fill=\"none\" points=\"43.5,-219.5 43.5,-255.5 177.5,-255.5 177.5,-219.5 43.5,-219.5\" stroke=\"#000000\"/>\n<text fill=\"#000000\" font-family=\"Times,serif\" font-size=\"14.00\" text-anchor=\"middle\" x=\"110.5\" y=\"-233.8\">densenet121: Model</text>\n</g>\n<!-- 140124339505136&#45;&gt;140124344368768 -->\n<g class=\"edge\" id=\"edge1\">\n<title>140124339505136-&gt;140124344368768</title>\n<path d=\"M110.5,-292.4551C110.5,-284.3828 110.5,-274.6764 110.5,-265.6817\" fill=\"none\" stroke=\"#000000\"/>\n<polygon fill=\"#000000\" points=\"114.0001,-265.5903 110.5,-255.5904 107.0001,-265.5904 114.0001,-265.5903\" stroke=\"#000000\"/>\n</g>\n<!-- 140124339505360 -->\n<g class=\"node\" id=\"node3\">\n<title>140124339505360</title>\n<polygon fill=\"none\" points=\"0,-146.5 0,-182.5 221,-182.5 221,-146.5 0,-146.5\" stroke=\"#000000\"/>\n<text fill=\"#000000\" font-family=\"Times,serif\" font-size=\"14.00\" text-anchor=\"middle\" x=\"110.5\" y=\"-160.8\">max_pooling2d_1: MaxPooling2D</text>\n</g>\n<!-- 140124344368768&#45;&gt;140124339505360 -->\n<g class=\"edge\" id=\"edge2\">\n<title>140124344368768-&gt;140124339505360</title>\n<path d=\"M110.5,-219.4551C110.5,-211.3828 110.5,-201.6764 110.5,-192.6817\" fill=\"none\" stroke=\"#000000\"/>\n<polygon fill=\"#000000\" points=\"114.0001,-192.5903 110.5,-182.5904 107.0001,-192.5904 114.0001,-192.5903\" stroke=\"#000000\"/>\n</g>\n<!-- 140124339505192 -->\n<g class=\"node\" id=\"node4\">\n<title>140124339505192</title>\n<polygon fill=\"none\" points=\"54,-73.5 54,-109.5 167,-109.5 167,-73.5 54,-73.5\" stroke=\"#000000\"/>\n<text fill=\"#000000\" font-family=\"Times,serif\" font-size=\"14.00\" text-anchor=\"middle\" x=\"110.5\" y=\"-87.8\">flatten_1: Flatten</text>\n</g>\n<!-- 140124339505360&#45;&gt;140124339505192 -->\n<g class=\"edge\" id=\"edge3\">\n<title>140124339505360-&gt;140124339505192</title>\n<path d=\"M110.5,-146.4551C110.5,-138.3828 110.5,-128.6764 110.5,-119.6817\" fill=\"none\" stroke=\"#000000\"/>\n<polygon fill=\"#000000\" points=\"114.0001,-119.5903 110.5,-109.5904 107.0001,-119.5904 114.0001,-119.5903\" stroke=\"#000000\"/>\n</g>\n<!-- 140127629857680 -->\n<g class=\"node\" id=\"node5\">\n<title>140127629857680</title>\n<polygon fill=\"none\" points=\"57,-.5 57,-36.5 164,-36.5 164,-.5 57,-.5\" stroke=\"#000000\"/>\n<text fill=\"#000000\" font-family=\"Times,serif\" font-size=\"14.00\" text-anchor=\"middle\" x=\"110.5\" y=\"-14.8\">dense_1: Dense</text>\n</g>\n<!-- 140124339505192&#45;&gt;140127629857680 -->\n<g class=\"edge\" id=\"edge4\">\n<title>140124339505192-&gt;140127629857680</title>\n<path d=\"M110.5,-73.4551C110.5,-65.3828 110.5,-55.6764 110.5,-46.6817\" fill=\"none\" stroke=\"#000000\"/>\n<polygon fill=\"#000000\" points=\"114.0001,-46.5903 110.5,-36.5904 107.0001,-46.5904 114.0001,-46.5903\" stroke=\"#000000\"/>\n</g>\n</g>\n</svg>"
          },
          "metadata": {
            "tags": []
          },
          "execution_count": 7
        }
      ]
    },
    {
      "cell_type": "code",
      "metadata": {
        "id": "s38o7f21b6sk"
      },
      "source": [
        "checkpoint = ModelCheckpoint(\n",
        "    'model.h5', \n",
        "    monitor='val_acc', \n",
        "    verbose=1, \n",
        "    save_best_only=True, \n",
        "    save_weights_only=True,\n",
        "    mode='auto'\n",
        ")"
      ],
      "execution_count": null,
      "outputs": []
    },
    {
      "cell_type": "code",
      "metadata": {
        "id": "4JuNEiQWb6nK"
      },
      "source": [
        "es = EarlyStopping(patience = 3)"
      ],
      "execution_count": null,
      "outputs": []
    },
    {
      "cell_type": "code",
      "metadata": {
        "id": "hfG0bZ9xb6hP",
        "outputId": "b3d07d5a-6bcc-4d0c-8beb-7d5780553aae",
        "colab": {
          "base_uri": "https://localhost:8080/",
          "height": 437
        }
      },
      "source": [
        "history = dnet.fit(\n",
        "    x=imgData,\n",
        "    y=labels,\n",
        "    batch_size = 16,\n",
        "    epochs=8,\n",
        "    callbacks=[checkpoint,es],\n",
        "    validation_split=0.2\n",
        ")"
      ],
      "execution_count": null,
      "outputs": [
        {
          "output_type": "stream",
          "text": [
            "Train on 2160 samples, validate on 540 samples\n",
            "Epoch 1/8\n",
            "2160/2160 [==============================] - 49s 23ms/step - loss: 0.2938 - acc: 0.9412 - val_loss: 3.6308 - val_acc: 0.7333\n",
            "\n",
            "Epoch 00001: val_acc improved from -inf to 0.73333, saving model to model.h5\n",
            "Epoch 2/8\n",
            "2160/2160 [==============================] - 24s 11ms/step - loss: 0.1066 - acc: 0.9782 - val_loss: 65.3290 - val_acc: 0.6241\n",
            "\n",
            "Epoch 00002: val_acc did not improve from 0.73333\n",
            "Epoch 3/8\n",
            "2160/2160 [==============================] - 24s 11ms/step - loss: 0.0190 - acc: 0.9926 - val_loss: 5.2434e-04 - val_acc: 1.0000\n",
            "\n",
            "Epoch 00003: val_acc improved from 0.73333 to 1.00000, saving model to model.h5\n",
            "Epoch 4/8\n",
            "2160/2160 [==============================] - 24s 11ms/step - loss: 0.0137 - acc: 0.9954 - val_loss: 0.0024 - val_acc: 1.0000\n",
            "\n",
            "Epoch 00004: val_acc did not improve from 1.00000\n",
            "Epoch 5/8\n",
            "2160/2160 [==============================] - 24s 11ms/step - loss: 0.0052 - acc: 0.9981 - val_loss: 0.5199 - val_acc: 0.8278\n",
            "\n",
            "Epoch 00005: val_acc did not improve from 1.00000\n",
            "Epoch 6/8\n",
            "2160/2160 [==============================] - 24s 11ms/step - loss: 0.4779 - acc: 0.9185 - val_loss: 9806.1582 - val_acc: 0.3426\n",
            "\n",
            "Epoch 00006: val_acc did not improve from 1.00000\n"
          ],
          "name": "stdout"
        }
      ]
    },
    {
      "cell_type": "code",
      "metadata": {
        "id": "iJg-mX4pzvqm"
      },
      "source": [
        " dnet.save_weights('model.h5')"
      ],
      "execution_count": null,
      "outputs": []
    },
    {
      "cell_type": "code",
      "metadata": {
        "id": "50yNHtdGzvdx"
      },
      "source": [
        "with open(\"model.json\", \"w\") as json_file:\n",
        "    json_file.write(dnet.to_json())"
      ],
      "execution_count": null,
      "outputs": []
    }
  ]
}