{
 "cells": [
  {
   "cell_type": "code",
   "execution_count": 10,
   "metadata": {},
   "outputs": [
    {
     "name": "stdout",
     "output_type": "stream",
     "text": [
      "4\n",
      "word localization internationalization pneumonoultramicroscopicsilicovolcanoconiosis\n",
      "word\n",
      "l10n\n",
      "i18n\n",
      "p43s\n"
     ]
    }
   ],
   "source": [
    "#71A\n",
    "n = int(input())\n",
    "y = input().strip().split() \n",
    "for i in range(n):\n",
    "    if len(y[i])>=10:\n",
    "        print(y[i][0]+'{}'.format(len(y[i])-2)+ y[i][-1])\n",
    "    else:\n",
    "        print(y[i])"
   ]
  },
  {
   "cell_type": "code",
   "execution_count": 29,
   "metadata": {},
   "outputs": [
    {
     "name": "stdout",
     "output_type": "stream",
     "text": [
      "52 4\n",
      "4\n"
     ]
    }
   ],
   "source": [
    "#errichto question\n",
    "x, k= map(int, input().strip().split())\n",
    "#print(type(x))\n",
    "for i in range(k):\n",
    "    if x%10==0:\n",
    "        x/=10\n",
    "    else:\n",
    "        x-=1\n",
    "print(int(x))"
   ]
  },
  {
   "cell_type": "code",
   "execution_count": 32,
   "metadata": {},
   "outputs": [
    {
     "name": "stdout",
     "output_type": "stream",
     "text": [
      "8\n",
      "YES\n"
     ]
    }
   ],
   "source": [
    "#4A\n",
    "x= input()\n",
    "if int(x)%2==0:\n",
    "    print(\"YES\")\n",
    "else:\n",
    "    print(\"NO\")"
   ]
  },
  {
   "cell_type": "code",
   "execution_count": 23,
   "metadata": {},
   "outputs": [
    {
     "name": "stdout",
     "output_type": "stream",
     "text": [
      "3\n",
      "100 110 111\n",
      "2\n"
     ]
    }
   ],
   "source": [
    "x= input()\n",
    "k = input().split(\" \")\n",
    "ct2=0\n",
    "for i in k:\n",
    "    ct= i.count('1')\n",
    "    if (ct>=2):\n",
    "        ct2+=1\n",
    "    else:\n",
    "        continue\n",
    "print(ct2)"
   ]
  }
 ],
 "metadata": {
  "kernelspec": {
   "display_name": "Python 3",
   "language": "python",
   "name": "python3"
  },
  "language_info": {
   "codemirror_mode": {
    "name": "ipython",
    "version": 3
   },
   "file_extension": ".py",
   "mimetype": "text/x-python",
   "name": "python",
   "nbconvert_exporter": "python",
   "pygments_lexer": "ipython3",
   "version": "3.8.3"
  }
 },
 "nbformat": 4,
 "nbformat_minor": 4
}
