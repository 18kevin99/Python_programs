{
 "cells": [
  {
   "cell_type": "markdown",
   "metadata": {},
   "source": [
    "join method for concatenation \n",
    "and format method for output\n"
   ]
  },
  {
   "cell_type": "code",
   "execution_count": null,
   "metadata": {},
   "outputs": [],
   "source": [
    "import argparse\n",
    "import sys\n",
    "\n",
    "def main():\n",
    "    parser = argparse.ArgumentParser()\n",
    "    parser.add_argument('--x', type=float, default= 1.0\n",
    "                       help='What is the first no.?')\n",
    "    parser.add_argument('--y', type=float, default= 1.0\n",
    "                       help='What is the second no.?')\n",
    "    parser.add_argument('--operation', type=str, default= 'add'\n",
    "                       help='What is the operation?(add, sub, mul,div)')\n",
    "    args= parser.parse_args()\n",
    "    sys.stdout.write(str(calc(args)))\n",
    "    \n",
    "def calc():\n",
    "    if args.operation=='add':\n",
    "        return args.x "
   ]
  }
 ],
 "metadata": {
  "kernelspec": {
   "display_name": "Python 3",
   "language": "python",
   "name": "python3"
  },
  "language_info": {
   "codemirror_mode": {
    "name": "ipython",
    "version": 3
   },
   "file_extension": ".py",
   "mimetype": "text/x-python",
   "name": "python",
   "nbconvert_exporter": "python",
   "pygments_lexer": "ipython3",
   "version": "3.8.3"
  }
 },
 "nbformat": 4,
 "nbformat_minor": 4
}
