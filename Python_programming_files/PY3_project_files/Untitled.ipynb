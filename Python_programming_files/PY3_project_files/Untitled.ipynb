{
 "cells": [
  {
   "cell_type": "code",
   "execution_count": null,
   "metadata": {},
   "outputs": [],
   "source": [
    "#importing all necessary libraries\n",
    "import PIL\n",
    "from PIL import Image, ImageEnhance, ImageDraw, ImageFont\n",
    "\n",
    "#empty image list\n",
    "pics = []\n",
    "#list of intensity values\n",
    "intensity_lst=[0.1,0.5,0.9]\n",
    "\n",
    "#sheet layer 0\n",
    "for i in intensity_lst:\n",
    "    image=Image.open(\"readonly/msi_recruitment.gif\")\n",
    "    image=image.convert('RGB')\n",
    "    r, g, b = image.split()\n",
    "    r = r.point(lambda x: x * i)\n",
    "    out = Image.merge('RGB', (r, g, b))\n",
    "    out = out.resize((int(out.width / 2), (int(out.height / 2))))\n",
    "    rect = Image.new('RGB', (out.width, 30), color = (0, 0, 0))\n",
    "    d = ImageDraw.Draw(rect)\n",
    "    fnt = ImageFont.truetype('readonly/fanwood-webfont.ttf', 40)\n",
    "    d.text((0, 0), 'channel 0 intensity {}'.format(i), font = fnt, fill = out.getpixel((0, 50)))\n",
    "    sheet = PIL.Image.new(out.mode, (out.width, out.height + rect.height))\n",
    "    sheet.paste(rect, (0, out.height))\n",
    "    sheet.paste(out, (0, 0))\n",
    "    pics.append(sheet)\n",
    "    \n",
    "#sheet layer 1\n",
    "for i in intensity_lst:\n",
    "    image=Image.open(\"readonly/msi_recruitment.gif\")\n",
    "    image=image.convert('RGB')\n",
    "    r, g, b = image.split()\n",
    "    g = g.point(lambda x: x * i)\n",
    "    out = Image.merge('RGB', (r, g, b))\n",
    "    out = out.resize((int(out.width / 2), (int(out.height / 2))))\n",
    "    rect = Image.new('RGB', (out.width, 30), color = (0, 0, 0))\n",
    "    d = ImageDraw.Draw(rect)\n",
    "    fnt = ImageFont.truetype('readonly/fanwood-webfont.ttf', 40)\n",
    "    d.text((0, 0), 'channel 1 intensity {}'.format(i), font = fnt, fill = out.getpixel((0, 50)))\n",
    "    sheet = PIL.Image.new(out.mode, (out.width, out.height + rect.height))\n",
    "    sheet.paste(rect, (0, out.height))\n",
    "    sheet.paste(out, (0, 0))\n",
    "    pics.append(sheet)\n",
    "    \n",
    "#sheet layer 2    \n",
    "for i in intensity_lst:\n",
    "    image=Image.open(\"readonly/msi_recruitment.gif\")\n",
    "    image=image.convert('RGB')\n",
    "    r, g, b = image.split()\n",
    "    b = b.point(lambda x: x * i)\n",
    "    out = Image.merge('RGB', (r, g, b))\n",
    "    out = out.resize((int(out.width / 2), (int(out.height / 2))))\n",
    "    rect = Image.new('RGB', (out.width, 30), color = (0, 0, 0))\n",
    "    d = ImageDraw.Draw(rect)\n",
    "    fnt = ImageFont.truetype('readonly/fanwood-webfont.ttf', 40)\n",
    "    d.text((0, 0), 'channel 2 intensity {}'.format(i), font = fnt, fill = out.getpixel((0, 50)))\n",
    "    sheet = PIL.Image.new(out.mode, (out.width, out.height + rect.height))\n",
    "    sheet.paste(rect, (0, out.height))\n",
    "    sheet.paste(out, (0, 0))\n",
    "    pics.append(sheet)\n",
    "    \n",
    "first_image = pics[0]\n",
    "\n",
    "contact_sheet = PIL.Image.new(first_image.mode, (first_image.width * 3, first_image.height * 3))\n",
    "x = 0\n",
    "y = 0\n",
    "\n",
    "for image in pics:\n",
    "    contact_sheet.paste(image, (x, y))\n",
    "    if x + first_image.width == contact_sheet.width:\n",
    "        x = 0\n",
    "        y = y + first_image.height \n",
    "    else:\n",
    "        x = x + first_image.width"
   ]
  },
  {
   "cell_type": "code",
   "execution_count": 1,
   "metadata": {},
   "outputs": [
    {
     "ename": "NameError",
     "evalue": "name 'contact_sheet' is not defined",
     "output_type": "error",
     "traceback": [
      "\u001b[1;31m---------------------------------------------------------------------------\u001b[0m",
      "\u001b[1;31mNameError\u001b[0m                                 Traceback (most recent call last)",
      "\u001b[1;32m<ipython-input-1-2122f7b4289c>\u001b[0m in \u001b[0;36m<module>\u001b[1;34m\u001b[0m\n\u001b[1;32m----> 1\u001b[1;33m \u001b[0mdisplay\u001b[0m\u001b[1;33m(\u001b[0m\u001b[0mcontact_sheet\u001b[0m\u001b[1;33m)\u001b[0m\u001b[1;33m\u001b[0m\u001b[1;33m\u001b[0m\u001b[0m\n\u001b[0m",
      "\u001b[1;31mNameError\u001b[0m: name 'contact_sheet' is not defined"
     ]
    }
   ],
   "source": [
    "display(contact_sheet)"
   ]
  }
 ],
 "metadata": {
  "kernelspec": {
   "display_name": "Python 3",
   "language": "python",
   "name": "python3"
  },
  "language_info": {
   "codemirror_mode": {
    "name": "ipython",
    "version": 3
   },
   "file_extension": ".py",
   "mimetype": "text/x-python",
   "name": "python",
   "nbconvert_exporter": "python",
   "pygments_lexer": "ipython3",
   "version": "3.7.6"
  }
 },
 "nbformat": 4,
 "nbformat_minor": 4
}
