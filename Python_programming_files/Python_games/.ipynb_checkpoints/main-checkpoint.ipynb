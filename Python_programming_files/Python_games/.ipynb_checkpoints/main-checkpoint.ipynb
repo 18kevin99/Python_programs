{
 "cells": [
  {
   "cell_type": "code",
   "execution_count": 1,
   "metadata": {},
   "outputs": [
    {
     "name": "stdout",
     "output_type": "stream",
     "text": [
      "pygame 1.9.6\n",
      "Hello from the pygame community. https://www.pygame.org/contribute.html\n"
     ]
    }
   ],
   "source": [
    "import pygame\n",
    "import os\n",
    "import time\n",
    "import random"
   ]
  },
  {
   "cell_type": "code",
   "execution_count": 2,
   "metadata": {},
   "outputs": [],
   "source": [
    "WIDTH, HEIGHT = 750, 750\n",
    "WIN = pygame.display.set_mode((WIDTH, HEIGHT))\n",
    "pygame.display.set_caption(\"Space Shooter Tutorial\")\n",
    "\n",
    "# Load images\n",
    "RED_SPACE_SHIP = pygame.image.load(os.path.join(\"assets\", \"pixel_ship_red_small.png\"))\n",
    "GREEN_SPACE_SHIP = pygame.image.load(os.path.join(\"assets\", \"pixel_ship_green_small.png\"))\n",
    "BLUE_SPACE_SHIP = pygame.image.load(os.path.join(\"assets\", \"pixel_ship_blue_small.png\"))\n",
    "\n",
    "# Player player\n",
    "YELLOW_SPACE_SHIP = pygame.image.load(os.path.join(\"assets\", \"pixel_ship_yellow.png\"))\n",
    "\n",
    "# Lasers\n",
    "RED_LASER = pygame.image.load(os.path.join(\"assets\", \"pixel_laser_red.png\"))\n",
    "GREEN_LASER = pygame.image.load(os.path.join(\"assets\", \"pixel_laser_green.png\"))\n",
    "BLUE_LASER = pygame.image.load(os.path.join(\"assets\", \"pixel_laser_blue.png\"))\n",
    "YELLOW_LASER = pygame.image.load(os.path.join(\"assets\", \"pixel_laser_yellow.png\"))\n",
    "\n",
    "\n",
    "#BACKGROUND\n",
    "BG = pygame.transform.scale(pygame.image.load(os.path.join(\"assets\",\"background-black.png\")),(WIDTH,HEIGHT))\n",
    "\n",
    "def main():\n",
    "    run = True\n",
    "    FPS = 60\n",
    "    clock = pygame.time.Clock()\n",
    "    \n",
    "    def redraw_window():\n",
    "        WIN.blit(BG,(0,0))\n",
    "        \n",
    "        pygame.display.update()\n",
    "    \n",
    "    while run:\n",
    "        clock.tick(FPS)\n",
    "        \n",
    "        for event in pygame.event.get():\n",
    "            if (event.type == pygame.QUIT):\n",
    "                run = False\n",
    "\n",
    "                \n",
    "                \n",
    "                \n",
    "                \n",
    "main()"
   ]
  }
 ],
 "metadata": {
  "kernelspec": {
   "display_name": "Python 3",
   "language": "python",
   "name": "python3"
  },
  "language_info": {
   "codemirror_mode": {
    "name": "ipython",
    "version": 3
   },
   "file_extension": ".py",
   "mimetype": "text/x-python",
   "name": "python",
   "nbconvert_exporter": "python",
   "pygments_lexer": "ipython3",
   "version": "3.8.3"
  }
 },
 "nbformat": 4,
 "nbformat_minor": 4
}
